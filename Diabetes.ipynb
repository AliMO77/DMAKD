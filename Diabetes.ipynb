{
 "cells": [
  {
   "cell_type": "code",
   "execution_count": 270,
   "id": "d50bfb9d",
   "metadata": {},
   "outputs": [
    {
     "name": "stdout",
     "output_type": "stream",
     "text": [
      "*************************Missing Data stats***************************************\n",
      "Length of All data :  101766\n",
      "Length of data with non nulls :  1043\n",
      "Number of columns with at least one null value: 8\n",
      "Column names and their number of missing values:\n",
      "race                  2273\n",
      "gender                   3\n",
      "weight               98569\n",
      "payer_code           40256\n",
      "medical_specialty    49949\n",
      "diag_1                  21\n",
      "diag_2                 358\n",
      "diag_3                1423\n",
      "dtype: int64\n",
      "****************************************************************\n"
     ]
    }
   ],
   "source": [
    "import pandas as pd \n",
    "raw_data = pd.read_csv(\"./data.csv\",na_values=['?','Unknown/Invalid'],low_memory=False)\n",
    "\n",
    "\n",
    "\n",
    "def missing_data_stats(df):\n",
    "    # some stats about the missing values in the data \n",
    "    null_counts = df.isnull().sum()\n",
    "    null_cols = null_counts[null_counts > 0].index.tolist()\n",
    "\n",
    "    print(\"*************************Missing Data stats***************************************\")\n",
    "    print(\"Length of All data : \",len(df ))\n",
    "    print(\"Length of data with non nulls : \",len(df.dropna()))\n",
    "    print(\"Number of columns with at least one null value:\",len(null_cols))\n",
    "    if len(null_cols) > 0:\n",
    "        print(\"Column names and their number of missing values:\")\n",
    "        adf = df[null_cols]\n",
    "        adf_null_counts = adf.isnull().sum()\n",
    "        print(adf_null_counts)\n",
    "    print(\"****************************************************************\")\n",
    "\n",
    "missing_data_stats(raw_data)"
   ]
  },
  {
   "cell_type": "markdown",
   "id": "7803ba7f",
   "metadata": {},
   "source": [
    "-Variables race,gender,diag_1,diag_2,diag_3 have fairly low missing values compaired to others,so we decided to impute the missing values with the most common value.\n",
    "-Variables gender, payer_code and medical_specialty have respectively 98%,40%,49% missing values so there is no usefulness in filling them, we decided to drop them \n"
   ]
  },
  {
   "cell_type": "code",
   "execution_count": 271,
   "id": "8ba7b656",
   "metadata": {},
   "outputs": [
    {
     "name": "stdout",
     "output_type": "stream",
     "text": [
      "*************************Missing Data stats***************************************\n",
      "Length of All data :  101766\n",
      "Length of data with non nulls :  101766\n",
      "Number of columns with at least one null value: 0\n",
      "****************************************************************\n"
     ]
    }
   ],
   "source": [
    "# Impute columns with fairly low number of missing values with most common value \n",
    "columns_to_impute = ['race', 'gender','diag_1','diag_2','diag_3']\n",
    "for col in columns_to_impute : \n",
    "    most_comon_value = raw_data[col].mode()[0]\n",
    "    raw_data[col] = raw_data[col].fillna(most_comon_value)\n",
    "\n",
    "# drop gender, payer_code and medical_specialty\n",
    "raw_data = raw_data.drop(['weight','payer_code','medical_specialty'], axis = 1)\n",
    "missing_data_stats(raw_data)"
   ]
  },
  {
   "cell_type": "code",
   "execution_count": null,
   "id": "0794b850",
   "metadata": {},
   "outputs": [],
   "source": []
  }
 ],
 "metadata": {
  "kernelspec": {
   "display_name": "Python 3.8.5 ('base')",
   "language": "python",
   "name": "python3"
  },
  "language_info": {
   "codemirror_mode": {
    "name": "ipython",
    "version": 3
   },
   "file_extension": ".py",
   "mimetype": "text/x-python",
   "name": "python",
   "nbconvert_exporter": "python",
   "pygments_lexer": "ipython3",
   "version": "3.8.5"
  },
  "vscode": {
   "interpreter": {
    "hash": "17a73e7344a32b7a6baef62ee0ff97c4938e30139a306fc7ab00df6703615513"
   }
  }
 },
 "nbformat": 4,
 "nbformat_minor": 5
}
